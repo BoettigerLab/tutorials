{
 "cells": [
  {
   "cell_type": "markdown",
   "metadata": {},
   "source": [
    "PrimerDesigner is written in Matlab.  \n",
    "\n",
    "You'll first need to pull the [matlab-public-functions](https://github.com/BoettigerLab/matlab-public-functions) repository from [github](https://github.com/BoettigerLab) if you don't have it already.\n",
    "\n",
    "Note to lab users: [matlab-public-functions](https://github.com/BoettigerLab/matlab-public-functions) is a subset of the private repo [matlab-functions](https://github.com/BoettigerLab/matlab-functions).  If you have access to the private matlab-functions repository you do not need to download this one. \n",
    "\n",
    "You can find a demo script on using PrimerDesigner [here](https://github.com/BoettigerLab/matlab-public-functions/blob/master/DemoScripts/DemoPrimerDesigner.m)."
   ]
  },
  {
   "cell_type": "code",
   "execution_count": null,
   "metadata": {
    "collapsed": true
   },
   "outputs": [],
   "source": []
  }
 ],
 "metadata": {
  "kernelspec": {
   "display_name": "Python [conda root]",
   "language": "python",
   "name": "conda-root-py"
  },
  "language_info": {
   "codemirror_mode": {
    "name": "ipython",
    "version": 2
   },
   "file_extension": ".py",
   "mimetype": "text/x-python",
   "name": "python",
   "nbconvert_exporter": "python",
   "pygments_lexer": "ipython2",
   "version": "2.7.12"
  }
 },
 "nbformat": 4,
 "nbformat_minor": 1
}
