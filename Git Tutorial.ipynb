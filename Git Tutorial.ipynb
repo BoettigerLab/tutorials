{
 "cells": [
  {
   "cell_type": "markdown",
   "metadata": {},
   "source": [
    "## Introduction\n",
    "\n",
    "## Background\n",
    "### What is Git?\n",
    "Git is software for sharing code and version managing of code. There are many more comprehensive explanations avaible, such as [the git book](https://git-scm.com/book/en/v2/Getting-Started-Git-Basics) from the git website or [this](https://www.atlassian.com/git/tutorials/what-is-git) from atlassian.\n",
    "\n",
    "### Why use git in the lab?\n",
    "* It facilitates development of software by mulitple people working on multiple different machines.\n",
    "    - tracking changes\n",
    "    - combining updates\n",
    "* It creates an online backup of your code and notes\n",
    "    - you can view your stuff from anywhere you have internet\n",
    "    - online copies can be public or private\n",
    "    - you can share updates on a project with your collaborators or PI\n",
    "\n",
    "\n",
    "## Install Git\n",
    "* Download and install git from [git-scm](https://git-scm.com/downloads)\n",
    "* Note to lab users: Git should already be installed on BoettigerServer\n",
    "\n",
    "## Tutorial: setting up a git-repository\n",
    "1. Create a folder called `tutorials`.  \n",
    "2. right click on the folder and select \"Git Bash here\" from the drop down menu.  \n",
    "    - (alternatively you can launch Git Bash as a program and cd to your folder\n",
    "    - `cd \"C:\\MyFolder\\tutorials\"`)\n",
    "3. Set up a handle to the remote directory\n",
    "    - `git remote add BoettigerLab https://github.com/BoettigerLab/tutorials.git`\n",
    "    - note you can use any individual word for the remote handle in place of BoettigerLab.\n",
    "4. Pull the contents of the remote server into your local folder\n",
    "    - `git remote pull BoettigerLab master`\n",
    "    - we grabbed the \"master\" branch. It is possible a project may have multiple branches, more on this later. \n",
    "    - open the  folder in your windows file browser and you should now see some files    \n",
    "    <img src = \"./Images/gitInit.PNG\">\n",
    "5. Make some changes\n",
    "    - create a new text document in this folder and call it \"test.txt\"\n",
    "    - edit the document and enter the text \"My first version\"\n",
    "6. Commit your changes in the version manager (GUI based):\n",
    "    - right click the folder and select Git-GUI here.  (alternatively you can launch Git GUI and navigate to the folder)\n",
    "    - In the upper-left box you see a list of all files in the folder that are new (these are white) or have changed (these have a blue text icon, you should see none of these yet).  \n",
    "    - click the \"Stage Changed\" button or select the file \"text.txt\" and press \"Ctrl+T\" to stage this change\n",
    "    - enter a commit message such as \"my first addition\"\n",
    "    - select commit.  \n",
    "    <img src = \"./Images/GitGUIintro.PNG\">\n",
    "7. Revise and recommit\n",
    "    - open the file \"test.txt\"\n",
    "    - replace \"first\" with \"second\"\n",
    "    - open the git-GUI again and stage and commit this change\n",
    "7. To host your own repository, \n",
    "    - go to github.com and visit your user page.  \n",
    "    - select repositories, and select create new.\n",
    "    - give it a name, e.g. tutorials.\n",
    "    - decide if you want it to be public or private: note, github charges a subscription fee for private repositories. \n",
    "    - return to your git bash, and add a handle to your new remote repository\n",
    "    - `git remote add MyRepo https://github.com/YourGitUserName/tutorials.git`\n",
    "    - push the repository to the online version\n",
    "    - `git push MyRepo master`\n",
    "    - if you visit your webpage \"https://github.com/YourGitUserName/tutorials\" you should now see your files online. \n",
    "\n",
    "<img src = \"./Images/gitInit.PNG\">\n",
    "\n"
   ]
  },
  {
   "cell_type": "code",
   "execution_count": null,
   "metadata": {
    "collapsed": true
   },
   "outputs": [],
   "source": []
  }
 ],
 "metadata": {
  "anaconda-cloud": {},
  "kernelspec": {
   "display_name": "Python [conda root]",
   "language": "python",
   "name": "conda-root-py"
  },
  "language_info": {
   "codemirror_mode": {
    "name": "ipython",
    "version": 2
   },
   "file_extension": ".py",
   "mimetype": "text/x-python",
   "name": "python",
   "nbconvert_exporter": "python",
   "pygments_lexer": "ipython2",
   "version": "2.7.12"
  }
 },
 "nbformat": 4,
 "nbformat_minor": 1
}
